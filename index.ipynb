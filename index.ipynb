{
 "cells": [
  {
   "cell_type": "code",
   "execution_count": 2,
   "metadata": {},
   "outputs": [],
   "source": [
    "# Import bibliothèques\n",
    "import pandas as pd\n",
    "import numpy as np\n",
    "import matplotlib.pyplot as plt"
   ]
  },
  {
   "cell_type": "code",
   "execution_count": 3,
   "metadata": {},
   "outputs": [],
   "source": [
    "# Lire la base de données\n",
    "tips=pd.read_csv('tips.csv')"
   ]
  },
  {
   "cell_type": "code",
   "execution_count": 4,
   "metadata": {},
   "outputs": [
    {
     "data": {
      "text/html": [
       "<div>\n",
       "<style scoped>\n",
       "    .dataframe tbody tr th:only-of-type {\n",
       "        vertical-align: middle;\n",
       "    }\n",
       "\n",
       "    .dataframe tbody tr th {\n",
       "        vertical-align: top;\n",
       "    }\n",
       "\n",
       "    .dataframe thead th {\n",
       "        text-align: right;\n",
       "    }\n",
       "</style>\n",
       "<table border=\"1\" class=\"dataframe\">\n",
       "  <thead>\n",
       "    <tr style=\"text-align: right;\">\n",
       "      <th></th>\n",
       "      <th>prof</th>\n",
       "      <th>salle</th>\n",
       "      <th>cause</th>\n",
       "      <th>date</th>\n",
       "      <th>intervenant</th>\n",
       "    </tr>\n",
       "  </thead>\n",
       "  <tbody>\n",
       "    <tr>\n",
       "      <th>0</th>\n",
       "      <td>VBODARD</td>\n",
       "      <td>A103</td>\n",
       "      <td>souris</td>\n",
       "      <td>01/28/19 14:15</td>\n",
       "      <td>adm.sor</td>\n",
       "    </tr>\n",
       "    <tr>\n",
       "      <th>1</th>\n",
       "      <td>LBODO</td>\n",
       "      <td>A105</td>\n",
       "      <td>imprimante</td>\n",
       "      <td>01/28/19 14:15</td>\n",
       "      <td>adm.mcaux</td>\n",
       "    </tr>\n",
       "    <tr>\n",
       "      <th>2</th>\n",
       "      <td>SPAQUES</td>\n",
       "      <td>A202</td>\n",
       "      <td>clavier</td>\n",
       "      <td>01/28/19 14:15</td>\n",
       "      <td>adm.san</td>\n",
       "    </tr>\n",
       "    <tr>\n",
       "      <th>3</th>\n",
       "      <td>VBODARD</td>\n",
       "      <td>A012</td>\n",
       "      <td>ecran</td>\n",
       "      <td>01/28/19 14:15</td>\n",
       "      <td>adm.mcaux</td>\n",
       "    </tr>\n",
       "    <tr>\n",
       "      <th>4</th>\n",
       "      <td>SPAQUES</td>\n",
       "      <td>A103</td>\n",
       "      <td>internet</td>\n",
       "      <td>01/28/19 14:15</td>\n",
       "      <td>adm.sor</td>\n",
       "    </tr>\n",
       "    <tr>\n",
       "      <th>5</th>\n",
       "      <td>VBODARD</td>\n",
       "      <td>A012</td>\n",
       "      <td>imprimante</td>\n",
       "      <td>01/28/19 14:15</td>\n",
       "      <td>adm.san</td>\n",
       "    </tr>\n",
       "    <tr>\n",
       "      <th>6</th>\n",
       "      <td>FMANIER</td>\n",
       "      <td>A202</td>\n",
       "      <td>internet</td>\n",
       "      <td>01/28/19 14:15</td>\n",
       "      <td>adm.mcaux</td>\n",
       "    </tr>\n",
       "    <tr>\n",
       "      <th>7</th>\n",
       "      <td>FMANIER</td>\n",
       "      <td>A012</td>\n",
       "      <td>ecran</td>\n",
       "      <td>01/28/19 14:15</td>\n",
       "      <td>adm.san</td>\n",
       "    </tr>\n",
       "    <tr>\n",
       "      <th>8</th>\n",
       "      <td>VBODARD</td>\n",
       "      <td>A202</td>\n",
       "      <td>clavier</td>\n",
       "      <td>01/28/19 14:15</td>\n",
       "      <td>adm.sor</td>\n",
       "    </tr>\n",
       "    <tr>\n",
       "      <th>9</th>\n",
       "      <td>FMANIER</td>\n",
       "      <td>A202</td>\n",
       "      <td>souris</td>\n",
       "      <td>01/28/19 14:15</td>\n",
       "      <td>adm.sor</td>\n",
       "    </tr>\n",
       "    <tr>\n",
       "      <th>10</th>\n",
       "      <td>GYOUNES</td>\n",
       "      <td>A209</td>\n",
       "      <td>clavier</td>\n",
       "      <td>01/28/19 14:15</td>\n",
       "      <td>adm.sor</td>\n",
       "    </tr>\n",
       "    <tr>\n",
       "      <th>11</th>\n",
       "      <td>XKAZMIERCZAK</td>\n",
       "      <td>A106</td>\n",
       "      <td>ecran</td>\n",
       "      <td>01/28/19 14:15</td>\n",
       "      <td>adm.san</td>\n",
       "    </tr>\n",
       "    <tr>\n",
       "      <th>12</th>\n",
       "      <td>XKAZMIERCZAK</td>\n",
       "      <td>A218</td>\n",
       "      <td>imprimante</td>\n",
       "      <td>01/28/19 14:15</td>\n",
       "      <td>adm.rgob</td>\n",
       "    </tr>\n",
       "    <tr>\n",
       "      <th>13</th>\n",
       "      <td>XKAZMIERCZAK</td>\n",
       "      <td>A106</td>\n",
       "      <td>internet</td>\n",
       "      <td>01/28/19 14:15</td>\n",
       "      <td>adm.rgob</td>\n",
       "    </tr>\n",
       "    <tr>\n",
       "      <th>14</th>\n",
       "      <td>VBODARD</td>\n",
       "      <td>A105</td>\n",
       "      <td>souris</td>\n",
       "      <td>01/28/19 14:15</td>\n",
       "      <td>adm.sor</td>\n",
       "    </tr>\n",
       "    <tr>\n",
       "      <th>15</th>\n",
       "      <td>VBODARD</td>\n",
       "      <td>A209</td>\n",
       "      <td>ecran</td>\n",
       "      <td>01/28/19 14:15</td>\n",
       "      <td>adm.san</td>\n",
       "    </tr>\n",
       "    <tr>\n",
       "      <th>16</th>\n",
       "      <td>PMEGRET</td>\n",
       "      <td>A218</td>\n",
       "      <td>souris</td>\n",
       "      <td>01/28/19 14:15</td>\n",
       "      <td>adm.rgob</td>\n",
       "    </tr>\n",
       "    <tr>\n",
       "      <th>17</th>\n",
       "      <td>GYOUNES</td>\n",
       "      <td>A218</td>\n",
       "      <td>clavier</td>\n",
       "      <td>01/28/19 14:15</td>\n",
       "      <td>adm.mcaux</td>\n",
       "    </tr>\n",
       "    <tr>\n",
       "      <th>18</th>\n",
       "      <td>JDECALONNE</td>\n",
       "      <td>A216</td>\n",
       "      <td>clavier</td>\n",
       "      <td>01/28/19 14:15</td>\n",
       "      <td>adm.mcaux</td>\n",
       "    </tr>\n",
       "    <tr>\n",
       "      <th>19</th>\n",
       "      <td>JDECALONNE</td>\n",
       "      <td>A218</td>\n",
       "      <td>clavier</td>\n",
       "      <td>01/28/19 14:15</td>\n",
       "      <td>adm.mcaux</td>\n",
       "    </tr>\n",
       "  </tbody>\n",
       "</table>\n",
       "</div>"
      ],
      "text/plain": [
       "            prof salle       cause            date intervenant\n",
       "0        VBODARD  A103      souris  01/28/19 14:15     adm.sor\n",
       "1          LBODO  A105  imprimante  01/28/19 14:15   adm.mcaux\n",
       "2        SPAQUES  A202     clavier  01/28/19 14:15     adm.san\n",
       "3        VBODARD  A012       ecran  01/28/19 14:15   adm.mcaux\n",
       "4        SPAQUES  A103    internet  01/28/19 14:15     adm.sor\n",
       "5        VBODARD  A012  imprimante  01/28/19 14:15     adm.san\n",
       "6        FMANIER  A202    internet  01/28/19 14:15   adm.mcaux\n",
       "7        FMANIER  A012       ecran  01/28/19 14:15     adm.san\n",
       "8        VBODARD  A202     clavier  01/28/19 14:15     adm.sor\n",
       "9        FMANIER  A202      souris  01/28/19 14:15     adm.sor\n",
       "10       GYOUNES  A209     clavier  01/28/19 14:15     adm.sor\n",
       "11  XKAZMIERCZAK  A106       ecran  01/28/19 14:15     adm.san\n",
       "12  XKAZMIERCZAK  A218  imprimante  01/28/19 14:15    adm.rgob\n",
       "13  XKAZMIERCZAK  A106    internet  01/28/19 14:15    adm.rgob\n",
       "14       VBODARD  A105      souris  01/28/19 14:15     adm.sor\n",
       "15       VBODARD  A209       ecran  01/28/19 14:15     adm.san\n",
       "16       PMEGRET  A218      souris  01/28/19 14:15    adm.rgob\n",
       "17       GYOUNES  A218     clavier  01/28/19 14:15   adm.mcaux\n",
       "18    JDECALONNE  A216     clavier  01/28/19 14:15   adm.mcaux\n",
       "19    JDECALONNE  A218     clavier  01/28/19 14:15   adm.mcaux"
      ]
     },
     "execution_count": 4,
     "metadata": {},
     "output_type": "execute_result"
    }
   ],
   "source": [
    "tips"
   ]
  },
  {
   "cell_type": "code",
   "execution_count": 5,
   "metadata": {},
   "outputs": [
    {
     "data": {
      "text/html": [
       "<div>\n",
       "<style scoped>\n",
       "    .dataframe tbody tr th:only-of-type {\n",
       "        vertical-align: middle;\n",
       "    }\n",
       "\n",
       "    .dataframe tbody tr th {\n",
       "        vertical-align: top;\n",
       "    }\n",
       "\n",
       "    .dataframe thead th {\n",
       "        text-align: right;\n",
       "    }\n",
       "</style>\n",
       "<table border=\"1\" class=\"dataframe\">\n",
       "  <thead>\n",
       "    <tr style=\"text-align: right;\">\n",
       "      <th></th>\n",
       "      <th>prof</th>\n",
       "      <th>salle</th>\n",
       "      <th>cause</th>\n",
       "      <th>date</th>\n",
       "      <th>intervenant</th>\n",
       "    </tr>\n",
       "  </thead>\n",
       "  <tbody>\n",
       "    <tr>\n",
       "      <th>0</th>\n",
       "      <td>VBODARD</td>\n",
       "      <td>A103</td>\n",
       "      <td>souris</td>\n",
       "      <td>01/28/19 14:15</td>\n",
       "      <td>adm.sor</td>\n",
       "    </tr>\n",
       "    <tr>\n",
       "      <th>1</th>\n",
       "      <td>LBODO</td>\n",
       "      <td>A105</td>\n",
       "      <td>imprimante</td>\n",
       "      <td>01/28/19 14:15</td>\n",
       "      <td>adm.mcaux</td>\n",
       "    </tr>\n",
       "    <tr>\n",
       "      <th>2</th>\n",
       "      <td>SPAQUES</td>\n",
       "      <td>A202</td>\n",
       "      <td>clavier</td>\n",
       "      <td>01/28/19 14:15</td>\n",
       "      <td>adm.san</td>\n",
       "    </tr>\n",
       "    <tr>\n",
       "      <th>3</th>\n",
       "      <td>VBODARD</td>\n",
       "      <td>A012</td>\n",
       "      <td>ecran</td>\n",
       "      <td>01/28/19 14:15</td>\n",
       "      <td>adm.mcaux</td>\n",
       "    </tr>\n",
       "    <tr>\n",
       "      <th>4</th>\n",
       "      <td>SPAQUES</td>\n",
       "      <td>A103</td>\n",
       "      <td>internet</td>\n",
       "      <td>01/28/19 14:15</td>\n",
       "      <td>adm.sor</td>\n",
       "    </tr>\n",
       "    <tr>\n",
       "      <th>5</th>\n",
       "      <td>VBODARD</td>\n",
       "      <td>A012</td>\n",
       "      <td>imprimante</td>\n",
       "      <td>01/28/19 14:15</td>\n",
       "      <td>adm.san</td>\n",
       "    </tr>\n",
       "    <tr>\n",
       "      <th>6</th>\n",
       "      <td>FMANIER</td>\n",
       "      <td>A202</td>\n",
       "      <td>internet</td>\n",
       "      <td>01/28/19 14:15</td>\n",
       "      <td>adm.mcaux</td>\n",
       "    </tr>\n",
       "    <tr>\n",
       "      <th>7</th>\n",
       "      <td>FMANIER</td>\n",
       "      <td>A012</td>\n",
       "      <td>ecran</td>\n",
       "      <td>01/28/19 14:15</td>\n",
       "      <td>adm.san</td>\n",
       "    </tr>\n",
       "    <tr>\n",
       "      <th>8</th>\n",
       "      <td>VBODARD</td>\n",
       "      <td>A202</td>\n",
       "      <td>clavier</td>\n",
       "      <td>01/28/19 14:15</td>\n",
       "      <td>adm.sor</td>\n",
       "    </tr>\n",
       "    <tr>\n",
       "      <th>9</th>\n",
       "      <td>FMANIER</td>\n",
       "      <td>A202</td>\n",
       "      <td>souris</td>\n",
       "      <td>01/28/19 14:15</td>\n",
       "      <td>adm.sor</td>\n",
       "    </tr>\n",
       "  </tbody>\n",
       "</table>\n",
       "</div>"
      ],
      "text/plain": [
       "      prof salle       cause            date intervenant\n",
       "0  VBODARD  A103      souris  01/28/19 14:15     adm.sor\n",
       "1    LBODO  A105  imprimante  01/28/19 14:15   adm.mcaux\n",
       "2  SPAQUES  A202     clavier  01/28/19 14:15     adm.san\n",
       "3  VBODARD  A012       ecran  01/28/19 14:15   adm.mcaux\n",
       "4  SPAQUES  A103    internet  01/28/19 14:15     adm.sor\n",
       "5  VBODARD  A012  imprimante  01/28/19 14:15     adm.san\n",
       "6  FMANIER  A202    internet  01/28/19 14:15   adm.mcaux\n",
       "7  FMANIER  A012       ecran  01/28/19 14:15     adm.san\n",
       "8  VBODARD  A202     clavier  01/28/19 14:15     adm.sor\n",
       "9  FMANIER  A202      souris  01/28/19 14:15     adm.sor"
      ]
     },
     "execution_count": 5,
     "metadata": {},
     "output_type": "execute_result"
    }
   ],
   "source": [
    "tips.head(10)"
   ]
  },
  {
   "cell_type": "code",
   "execution_count": 6,
   "metadata": {},
   "outputs": [
    {
     "data": {
      "text/html": [
       "<div>\n",
       "<style scoped>\n",
       "    .dataframe tbody tr th:only-of-type {\n",
       "        vertical-align: middle;\n",
       "    }\n",
       "\n",
       "    .dataframe tbody tr th {\n",
       "        vertical-align: top;\n",
       "    }\n",
       "\n",
       "    .dataframe thead th {\n",
       "        text-align: right;\n",
       "    }\n",
       "</style>\n",
       "<table border=\"1\" class=\"dataframe\">\n",
       "  <thead>\n",
       "    <tr style=\"text-align: right;\">\n",
       "      <th></th>\n",
       "      <th>prof</th>\n",
       "      <th>salle</th>\n",
       "      <th>date</th>\n",
       "      <th>intervenant</th>\n",
       "    </tr>\n",
       "    <tr>\n",
       "      <th>cause</th>\n",
       "      <th></th>\n",
       "      <th></th>\n",
       "      <th></th>\n",
       "      <th></th>\n",
       "    </tr>\n",
       "  </thead>\n",
       "  <tbody>\n",
       "    <tr>\n",
       "      <th>clavier</th>\n",
       "      <td>6</td>\n",
       "      <td>6</td>\n",
       "      <td>6</td>\n",
       "      <td>6</td>\n",
       "    </tr>\n",
       "    <tr>\n",
       "      <th>ecran</th>\n",
       "      <td>4</td>\n",
       "      <td>4</td>\n",
       "      <td>4</td>\n",
       "      <td>4</td>\n",
       "    </tr>\n",
       "    <tr>\n",
       "      <th>imprimante</th>\n",
       "      <td>3</td>\n",
       "      <td>3</td>\n",
       "      <td>3</td>\n",
       "      <td>3</td>\n",
       "    </tr>\n",
       "    <tr>\n",
       "      <th>internet</th>\n",
       "      <td>3</td>\n",
       "      <td>3</td>\n",
       "      <td>3</td>\n",
       "      <td>3</td>\n",
       "    </tr>\n",
       "    <tr>\n",
       "      <th>souris</th>\n",
       "      <td>4</td>\n",
       "      <td>4</td>\n",
       "      <td>4</td>\n",
       "      <td>4</td>\n",
       "    </tr>\n",
       "  </tbody>\n",
       "</table>\n",
       "</div>"
      ],
      "text/plain": [
       "            prof  salle  date  intervenant\n",
       "cause                                     \n",
       "clavier        6      6     6            6\n",
       "ecran          4      4     4            4\n",
       "imprimante     3      3     3            3\n",
       "internet       3      3     3            3\n",
       "souris         4      4     4            4"
      ]
     },
     "execution_count": 6,
     "metadata": {},
     "output_type": "execute_result"
    }
   ],
   "source": [
    "group = tips.groupby('cause')\n",
    "group.count()"
   ]
  },
  {
   "cell_type": "code",
   "execution_count": 7,
   "metadata": {},
   "outputs": [
    {
     "data": {
      "image/png": "[encoded data removed]",
      "text/plain": [
       "<Figure size 432x288 with 1 Axes>"
      ]
     },
     "metadata": {
      "needs_background": "light"
     },
     "output_type": "display_data"
    }
   ],
   "source": [
    "plt.title('Nombre incident')\n",
    "ax = plt.gca()\n",
    "tips.groupby('cause').size().plot(kind='line', color='red')\n",
    "plt.xticks(rotation = 45)\n",
    "ax.set_ylim(top=10)\n",
    "plt.xlabel('INCIDENT')\n",
    "plt.ylabel('NOMBRE INCIDENT')\n",
    "plt.show()"
   ]
  },
  {
   "cell_type": "code",
   "execution_count": 8,
   "metadata": {},
   "outputs": [
    {
     "data": {
      "image/png": "[encoded data removed]",
      "text/plain": [
       "<Figure size 432x288 with 1 Axes>"
      ]
     },
     "metadata": {
      "needs_background": "light"
     },
     "output_type": "display_data"
    }
   ],
   "source": [
    "plt.scatter(tips.cause, tips.salle, s=100, alpha=0.6, edgecolor='black', linewidth=1, color='green')\n",
    "plt.title('Causalité incident')\n",
    "plt.xlabel('SALLE')\n",
    "plt.ylabel('CAUSE')\n",
    "plt.show()"
   ]
  },
  {
   "cell_type": "code",
   "execution_count": 9,
   "metadata": {},
   "outputs": [
    {
     "data": {
      "image/png": "[encoded data removed]",
      "text/plain": [
       "<Figure size 432x288 with 1 Axes>"
      ]
     },
     "metadata": {
      "needs_background": "light"
     },
     "output_type": "display_data"
    }
   ],
   "source": [
    "tips.groupby('prof').size().plot(kind='bar')\n",
    "ax = plt.gca()\n",
    "ax.set_ylim(top=10)\n",
    "plt.title('Incidents déclarés')\n",
    "plt.xlabel('PROFESSEUR')\n",
    "plt.ylabel('INCIDENTS DECLARES')\n",
    "plt.show()"
   ]
  },
  {
   "cell_type": "code",
   "execution_count": 10,
   "metadata": {},
   "outputs": [
    {
     "data": {
      "image/png": "[encoded data removed]",
      "text/plain": [
       "<Figure size 432x288 with 1 Axes>"
      ]
     },
     "metadata": {
      "needs_background": "light"
     },
     "output_type": "display_data"
    }
   ],
   "source": [
    "tips.groupby(['salle','cause']).size().unstack().plot(kind='bar',stacked=True)\n",
    "ax = plt.gca()\n",
    "ax.set_ylim(top=10)\n",
    "plt.title('Incidents par salle')\n",
    "plt.xlabel('SALLE')\n",
    "plt.ylabel('INCIDENTS DECLARES')\n",
    "plt.show()"
   ]
  },
  {
   "cell_type": "code",
   "execution_count": 11,
   "metadata": {},
   "outputs": [
    {
     "data": {
      "image/png": "[encoded data removed]",
      "text/plain": [
       "<Figure size 432x288 with 1 Axes>"
      ]
     },
     "metadata": {},
     "output_type": "display_data"
    }
   ],
   "source": [
    "tips.groupby('intervenant').size().plot(kind='pie')\n",
    "plt.title('Incidents résolus')\n",
    "plt.ylabel(' ')\n",
    "plt.show()"
   ]
  }
 ],
 "metadata": {
  "interpreter": {
   "hash": "f962b8850393e2da8e13284f15eb7f0ba0a9372d4f53e3eea599f30d76e6439b"
  },
  "kernelspec": {
   "display_name": "Python 3.7.9 64-bit",
   "language": "python",
   "name": "python3"
  },
  "language_info": {
   "codemirror_mode": {
    "name": "ipython",
    "version": 3
   },
   "file_extension": ".py",
   "mimetype": "text/x-python",
   "name": "python",
   "nbconvert_exporter": "python",
   "pygments_lexer": "ipython3",
   "version": "3.7.9"
  },
  "orig_nbformat": 4
 },
 "nbformat": 4,
 "nbformat_minor": 2
}
